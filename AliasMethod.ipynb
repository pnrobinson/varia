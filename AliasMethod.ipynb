{
 "cells": [
  {
   "cell_type": "markdown",
   "metadata": {},
   "source": [
    "<h1>Method of aliases</h1>\n",
    "<p>This is a summary of a the alias sampling method drawn from wikipedia, the <a href=\"https://lips.cs.princeton.edu/\">LIPS blog</a> and other sources. \n",
    "THe alias method is a family of efficient algorithms for sampling from a discrete probability distribution, \n",
    "due to A. J. Walker.[1][2] That is, it returns integer values 1 &leq; i &leq; n according to some arbitrary probability \n",
    "distribution pi. The algorithms typically use O(n log n) or O(n) preprocessing time, after which random values can be drawn from the distribution in O(1) time.</p>\n",
    "<p>The starting point is a finite discrete distribution. $$P(X=v_i) = p_i$$</p>\n",
    "<p>The method constructs a series of numbers $P[j]\\in [0,1], j=1,\\ldots,n$ and of aliases $Y[j], j=1,\\ldots,n$ and uses them to return a random value with the distribution $P(X=v_i) = p_i$."
   ]
  },
  {
   "cell_type": "markdown",
   "metadata": {},
   "source": [
    "<p>The basic idea is to observe that any discrete distribution over $K$ outcomes can be turned into a uniform \n",
    "distribution over (possibly degenerate) binary outcomes. Since sampling from a uniform distribution can be done \n",
    "in constant time, it is easy to sample once you've computed an appropriate mixture. The setup cost is linear \n",
    "in $K$. You can convince yourself that such a mixture exists using induction. </p>\n",
    "<p>First, if $K=1$, it is clearly easy.\n",
    "For $K>1$, find $k_{\\sf min} = \\arg\\min_k \\pi_k$ and $k_{\\sf max} = \\arg\\max_k \\pi_k$. We know that \n",
    "$\\pi_{k_{\\sf min}}\\leq 1/K$, so use these two to create a binary mixture between outcomes \n",
    "$k_{\\sf min}$ and $k_{\\sf max}$ where this component now owns all of the probability mass for\n",
    "$k_{\\sf min}$ but only $1/K - \\pi_{k_{\\sf min}}$ of the mass for $k_{\\sf max}$. Having done this, we now \n",
    "have a new discrete distribution with $K-1$ outcomes, which we can iterate until there is only one outcome.\n",
    "</p>"
   ]
  },
  {
   "cell_type": "markdown",
   "metadata": {},
   "source": [
    "<h2>Alias setup: Table generation</h2>\n",
    "<p>Say we have $K$ discrete items. </p>"
   ]
  },
  {
   "cell_type": "code",
   "execution_count": null,
   "metadata": {},
   "outputs": [],
   "source": [
    "import numpy        as np\n",
    "import numpy.random as npr\n",
    "\n",
    "def alias_setup(probs):\n",
    "    K         = len(probs)\n",
    "    q = np.zeros(K) # array of alias-normalized probabilities\n",
    "    Alias     = np.zeros(K, dtype=np.int) # J"
   ]
  },
  {
   "cell_type": "markdown",
   "metadata": {},
   "source": [
    "<p>To generate the table, first initialize $U_i = Kp_i$. While doing this, divide the table entries into three categories:</p>\n",
    "<ul>\n",
    "    <li>The “overfull” group, where $U_i > 1$ (<tt>larger</tt> in the following code)</li>\n",
    "    <li>The “underfull” group, where $U_i \\leq 1$  (<tt>smaller</tt> in the following code)and\n",
    " </ul>\n",
    " <p>The following code divides all entries into the groups smaller and larger (Note that if one of these exists, the other must, as well).</p>"
   ]
  },
  {
   "cell_type": "code",
   "execution_count": 3,
   "metadata": {},
   "outputs": [],
   "source": [
    "def alias_setup(probs):\n",
    "    # (...)\n",
    "\n",
    "    # Sort the data into the outcomes with probabilities\n",
    "    # that are larger and smaller than 1/K.\n",
    "    smaller = []\n",
    "    larger  = []\n",
    "    for kk, prob in enumerate(probs):\n",
    "        q[kk] = K*prob\n",
    "        if q[kk] < 1.0:\n",
    "            smaller.append(kk)\n",
    "        else:\n",
    "            larger.append(kk)"
   ]
  },
  {
   "cell_type": "markdown",
   "metadata": {},
   "source": [
    "<p>In the following, we arbitrarily choose a too-big and a too-small entry. Note that if we begin with an odd number\n",
    "of entries, then the last time we do a pop, the entry should be 1. We then allocate the unused space in entry $j$ to outcome $i$, \n",
    "by setting $K_j = i$ (<tt>J[small] = large</tt>).</p>\n",
    "<p>Remove the allocated space from entry $i$ by changing $U_i = U_i − (1 − U_j) = U_i + U_j − 1$. Entry $j$ is now exactly full. </p>\n",
    "<p>There are two options how to \"rearrange\" the probabilities. See this <a href=\"http://www.keithschwarz.com/darts-dice-coins/\">webpage</a> for intuition.</p>"
   ]
  },
  {
   "cell_type": "code",
   "execution_count": null,
   "metadata": {},
   "outputs": [],
   "source": [
    "def alias_setup(probs):\n",
    "    # (...)\n",
    "    # (...)\n",
    "    while len(smaller) > 0 and len(larger) > 0:\n",
    "        small = smaller.pop()\n",
    "        large = larger.pop()\n",
    "\n",
    "        Alias[small] = large\n",
    "        q[large] = q[large] - (1.0 - q[small])\n",
    "\n",
    "        if q[large] < 1.0:\n",
    "            smaller.append(large)\n",
    "        else:\n",
    "            larger.append(large)\n",
    "\n",
    "    return Alias, q"
   ]
  },
  {
   "cell_type": "markdown",
   "metadata": {},
   "source": [
    "<h2>Alias draw</h2>\n",
    "<p>To draw, we perform the following steps</p>\n",
    "<ul>\n",
    "    <li>Generate a fair die roll from an $n$-sided die; call the side $i$</li>\n",
    "    <li>Flip a biased coin that comes up heads with probability $Prob[i]$</li>\n",
    "    <li>If the coin comes up \"heads,\" return $i$</li>\n",
    "    <li>Otherwise, return Alias[i]</li>\n",
    "</ul>\n",
    "."
   ]
  },
  {
   "cell_type": "code",
   "execution_count": null,
   "metadata": {},
   "outputs": [],
   "source": [
    "def alias_draw(J, q):\n",
    "    K  = len(J)\n",
    "\n",
    "    # Draw from the overall uniform mixture.\n",
    "    kk = int(np.floor(npr.rand()*K))\n",
    "\n",
    "    # Draw from the binary mixture, either keeping the\n",
    "    # small one, or choosing the associated larger one.\n",
    "    if npr.rand() < q[kk]:\n",
    "        return kk\n",
    "    else:\n",
    "        return J[kk]"
   ]
  }
 ],
 "metadata": {
  "kernelspec": {
   "display_name": "p3",
   "language": "python",
   "name": "p3"
  },
  "language_info": {
   "codemirror_mode": {
    "name": "ipython",
    "version": 3
   },
   "file_extension": ".py",
   "mimetype": "text/x-python",
   "name": "python",
   "nbconvert_exporter": "python",
   "pygments_lexer": "ipython3",
   "version": "3.7.4"
  }
 },
 "nbformat": 4,
 "nbformat_minor": 2
}
